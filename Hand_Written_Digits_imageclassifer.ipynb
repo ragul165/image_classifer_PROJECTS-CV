{
  "nbformat": 4,
  "nbformat_minor": 0,
  "metadata": {
    "colab": {
      "name": "Hand_Written_Digits-imageclassifer.ipynb",
      "provenance": [],
      "collapsed_sections": [],
      "toc_visible": true
    },
    "kernelspec": {
      "name": "python3",
      "display_name": "Python 3"
    }
  },
  "cells": [
    {
      "cell_type": "code",
      "metadata": {
        "id": "evDwJxUiqd8h",
        "colab_type": "code",
        "outputId": "e2625b3c-3249-4ee6-b111-3b84033c691a",
        "colab": {
          "base_uri": "https://localhost:8080/",
          "height": 34
        }
      },
      "source": [
        "import numpy as np\n",
        "import matplotlib.pyplot as plt\n",
        "import tensorflow as tf\n",
        "\n",
        "from keras.datasets import mnist\n",
        "import keras \n",
        "from keras.models import Sequential\n",
        "from keras.layers import Conv2D,MaxPooling2D,Dense,Flatten,Dropout\n",
        "from keras.callbacks import TensorBoard"
      ],
      "execution_count": 0,
      "outputs": [
        {
          "output_type": "stream",
          "text": [
            "Using TensorFlow backend.\n"
          ],
          "name": "stderr"
        }
      ]
    },
    {
      "cell_type": "code",
      "metadata": {
        "id": "aYh_VgWbqhTf",
        "colab_type": "code",
        "outputId": "0b670472-1442-428b-d0bb-c22bd43dc227",
        "colab": {
          "base_uri": "https://localhost:8080/",
          "height": 50
        }
      },
      "source": [
        "(x_train,y_train),(x_test,y_test)=mnist.load_data()"
      ],
      "execution_count": 0,
      "outputs": [
        {
          "output_type": "stream",
          "text": [
            "Downloading data from https://s3.amazonaws.com/img-datasets/mnist.npz\n",
            "11493376/11490434 [==============================] - 0s 0us/step\n"
          ],
          "name": "stdout"
        }
      ]
    },
    {
      "cell_type": "code",
      "metadata": {
        "id": "b4bOeQOtqrNY",
        "colab_type": "code",
        "outputId": "ba5f3e7a-db4c-44c4-9ef9-9ba282856c67",
        "colab": {
          "base_uri": "https://localhost:8080/",
          "height": 84
        }
      },
      "source": [
        "print(\"shape of x_train :\"+str(x_train.shape))\n",
        "print(\"shape of x_train :\"+str(x_test.shape))\n",
        "print(\"shape of y_train :\"+str(y_train.shape))\n",
        "print(\"shape of y_test  :\"+str(y_test.shape))"
      ],
      "execution_count": 0,
      "outputs": [
        {
          "output_type": "stream",
          "text": [
            "shape of x_train :(60000, 28, 28)\n",
            "shape of x_train :(10000, 28, 28)\n",
            "shape of y_train :(60000,)\n",
            "shape of y_test  :(10000,)\n"
          ],
          "name": "stdout"
        }
      ]
    },
    {
      "cell_type": "code",
      "metadata": {
        "id": "tUel3Nxmq7uG",
        "colab_type": "code",
        "outputId": "c1525152-83be-421d-fdff-b601c0a7b3cb",
        "colab": {
          "base_uri": "https://localhost:8080/",
          "height": 268
        }
      },
      "source": [
        "for i in range(0,9):\n",
        "  plt.subplot(330+1+i)\n",
        "  plt.imshow(x_train[i])\n",
        "plt.show()"
      ],
      "execution_count": 0,
      "outputs": [
        {
          "output_type": "display_data",
          "data": {
            "image/png": "[encoded data removed]",
            "text/plain": [
              "<Figure size 432x288 with 9 Axes>"
            ]
          },
          "metadata": {
            "tags": []
          }
        }
      ]
    },
    {
      "cell_type": "code",
      "metadata": {
        "id": "XBCRgTq2rPRf",
        "colab_type": "code",
        "colab": {}
      },
      "source": [
        "\n",
        "#y_train=keras.utils.to_categorical(y_train,10)\n",
        "#y_test=keras.utils.to_categorical(y_test,10)\n",
        "x_train=x_train.astype('float32')\n",
        "x_test=x_test.astype('float32')\n",
        "x_train=x_train.reshape(60000,28,28,1)\n",
        "x_train=x_train/255.0\n",
        "x_test=x_test.reshape(10000,28,28,1)\n",
        "x_test=x_test/255.0"
      ],
      "execution_count": 0,
      "outputs": []
    },
    {
      "cell_type": "code",
      "metadata": {
        "id": "fdIComPXrQtu",
        "colab_type": "code",
        "colab": {}
      },
      "source": [
        " model = tf.keras.models.Sequential([\n",
        "            tf.keras.layers.Conv2D(32,(3,3),activation='relu',input_shape=(28,28,1)),\n",
        "            tf.keras.layers.MaxPooling2D(2,2),\n",
        "            tf.keras.layers.Flatten(),\n",
        "            tf.keras.layers.Dense(128,activation='relu'),\n",
        "            tf.keras.layers.Dense(10,activation='softmax')\n",
        "    ])\n"
      ],
      "execution_count": 0,
      "outputs": []
    },
    {
      "cell_type": "code",
      "metadata": {
        "id": "92B91PPhrUZi",
        "colab_type": "code",
        "colab": {}
      },
      "source": [
        "\n",
        "model.compile(loss='categorical_crossentropy', optimizer='adam', metrics=['accuracy'])"
      ],
      "execution_count": 0,
      "outputs": []
    },
    {
      "cell_type": "code",
      "metadata": {
        "id": "nwtQN4Posjxc",
        "colab_type": "code",
        "outputId": "bf7d9861-3260-44cf-d51b-2a41ed8308bc",
        "colab": {
          "base_uri": "https://localhost:8080/",
          "height": 353
        }
      },
      "source": [
        "history=model.fit(x_train,y_train,epochs=10)"
      ],
      "execution_count": 0,
      "outputs": [
        {
          "output_type": "stream",
          "text": [
            "Epoch 1/10\n",
            "1875/1875 [==============================] - 33s 18ms/step - loss: 0.7971 - accuracy: 0.7690\n",
            "Epoch 2/10\n",
            "1875/1875 [==============================] - 33s 18ms/step - loss: 0.3318 - accuracy: 0.9014\n",
            "Epoch 3/10\n",
            "1875/1875 [==============================] - 33s 18ms/step - loss: 0.2801 - accuracy: 0.9172\n",
            "Epoch 4/10\n",
            "1875/1875 [==============================] - 33s 18ms/step - loss: 0.2389 - accuracy: 0.9291\n",
            "Epoch 5/10\n",
            "1875/1875 [==============================] - 33s 18ms/step - loss: 0.2074 - accuracy: 0.9386\n",
            "Epoch 6/10\n",
            "1875/1875 [==============================] - 34s 18ms/step - loss: 0.1852 - accuracy: 0.9449\n",
            "Epoch 7/10\n",
            "1875/1875 [==============================] - 33s 18ms/step - loss: 0.1673 - accuracy: 0.9502\n",
            "Epoch 8/10\n",
            "1875/1875 [==============================] - 33s 18ms/step - loss: 0.1541 - accuracy: 0.9538\n",
            "Epoch 9/10\n",
            "1875/1875 [==============================] - 33s 18ms/step - loss: 0.1423 - accuracy: 0.9575\n",
            "Epoch 10/10\n",
            "1875/1875 [==============================] - 33s 18ms/step - loss: 0.1336 - accuracy: 0.9597\n"
          ],
          "name": "stdout"
        }
      ]
    },
    {
      "cell_type": "code",
      "metadata": {
        "id": "-nqEvNwINBvo",
        "colab_type": "code",
        "outputId": "0b7f5cdf-77e2-4838-da3a-c5910aca269b",
        "colab": {
          "base_uri": "https://localhost:8080/",
          "height": 50
        }
      },
      "source": [
        "evaluation=model.evaluate(x_test,y_test)\n",
        "print('Test Accuracy: {}'.format(evaluation[1]))"
      ],
      "execution_count": 0,
      "outputs": [
        {
          "output_type": "stream",
          "text": [
            "313/313 [==============================] - 2s 6ms/step - loss: 0.1344 - accuracy: 0.9601\n",
            "Test Accuracy: 0.960099995136261\n"
          ],
          "name": "stdout"
        }
      ]
    }
  ]
}